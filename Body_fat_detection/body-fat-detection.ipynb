{
 "cells": [
  {
   "cell_type": "code",
   "execution_count": 7,
   "metadata": {},
   "outputs": [],
   "source": [
    "#http://wiki.stat.ucla.edu/socr/index.php/SOCR_Data_BMI_Regression#Data_Table    data source\n",
    "#https://rstudio-pubs-static.s3.amazonaws.com/65314_c0d1e5696cdd4e93a3784ea67f9e3d34.html refrence\n",
    "\n",
    "# BMI < 18.5 : underweight,\n",
    "# 18.5 < BMI < 25 : optimal weight,\n",
    "# 25 < BMI < 30 : overweight,\n",
    "# BMI > 30 : obese.\n",
    "#                            class\n",
    "# essential fat : 2-5%   --->  0\n",
    "# athletes : 6-13%       --->  1\n",
    "# fitness : 14-17%       --->  2\n",
    "# Normal : 18-24%        --->  3\n",
    "# obese : more than 24%  --->  4\n",
    "\n",
    "import pandas as pd\n",
    "import numpy as np\n",
    "import matplotlib.pyplot as plt"
   ]
  },
  {
   "cell_type": "code",
   "execution_count": 8,
   "metadata": {},
   "outputs": [
    {
     "data": {
      "text/html": [
       "<div>\n",
       "<style scoped>\n",
       "    .dataframe tbody tr th:only-of-type {\n",
       "        vertical-align: middle;\n",
       "    }\n",
       "\n",
       "    .dataframe tbody tr th {\n",
       "        vertical-align: top;\n",
       "    }\n",
       "\n",
       "    .dataframe thead th {\n",
       "        text-align: right;\n",
       "    }\n",
       "</style>\n",
       "<table border=\"1\" class=\"dataframe\">\n",
       "  <thead>\n",
       "    <tr style=\"text-align: right;\">\n",
       "      <th></th>\n",
       "      <th>UnderwaterDensity</th>\n",
       "      <th>BodyFatSiriEqu</th>\n",
       "      <th>Age</th>\n",
       "      <th>Height</th>\n",
       "      <th>Weight(kg)</th>\n",
       "      <th>NeckCircumf</th>\n",
       "      <th>ChestCircumf</th>\n",
       "      <th>Abdomen2Circumf</th>\n",
       "      <th>HipCircumf</th>\n",
       "      <th>ThighCircumf</th>\n",
       "      <th>KneeCircumf</th>\n",
       "      <th>AnkleCircumf</th>\n",
       "      <th>ExtendBicepsCircumf</th>\n",
       "      <th>ForearmCircumf</th>\n",
       "      <th>WristCircumf</th>\n",
       "    </tr>\n",
       "  </thead>\n",
       "  <tbody>\n",
       "    <tr>\n",
       "      <th>0</th>\n",
       "      <td>1.0708</td>\n",
       "      <td>12.3</td>\n",
       "      <td>23</td>\n",
       "      <td>172.085</td>\n",
       "      <td>69.96662</td>\n",
       "      <td>36.2</td>\n",
       "      <td>93.1</td>\n",
       "      <td>85.2</td>\n",
       "      <td>94.5</td>\n",
       "      <td>59.0</td>\n",
       "      <td>37.3</td>\n",
       "      <td>21.9</td>\n",
       "      <td>32.0</td>\n",
       "      <td>27.4</td>\n",
       "      <td>17.1</td>\n",
       "    </tr>\n",
       "    <tr>\n",
       "      <th>1</th>\n",
       "      <td>1.0853</td>\n",
       "      <td>6.1</td>\n",
       "      <td>22</td>\n",
       "      <td>183.515</td>\n",
       "      <td>78.58488</td>\n",
       "      <td>38.5</td>\n",
       "      <td>93.6</td>\n",
       "      <td>83.0</td>\n",
       "      <td>98.7</td>\n",
       "      <td>58.7</td>\n",
       "      <td>37.3</td>\n",
       "      <td>23.4</td>\n",
       "      <td>30.5</td>\n",
       "      <td>28.9</td>\n",
       "      <td>18.2</td>\n",
       "    </tr>\n",
       "    <tr>\n",
       "      <th>2</th>\n",
       "      <td>1.0414</td>\n",
       "      <td>25.3</td>\n",
       "      <td>22</td>\n",
       "      <td>168.275</td>\n",
       "      <td>69.85322</td>\n",
       "      <td>34.0</td>\n",
       "      <td>95.8</td>\n",
       "      <td>87.9</td>\n",
       "      <td>99.2</td>\n",
       "      <td>59.6</td>\n",
       "      <td>38.9</td>\n",
       "      <td>24.0</td>\n",
       "      <td>28.8</td>\n",
       "      <td>25.2</td>\n",
       "      <td>16.6</td>\n",
       "    </tr>\n",
       "    <tr>\n",
       "      <th>3</th>\n",
       "      <td>1.0751</td>\n",
       "      <td>10.4</td>\n",
       "      <td>26</td>\n",
       "      <td>183.515</td>\n",
       "      <td>83.80119</td>\n",
       "      <td>37.4</td>\n",
       "      <td>101.8</td>\n",
       "      <td>86.4</td>\n",
       "      <td>101.2</td>\n",
       "      <td>60.1</td>\n",
       "      <td>37.3</td>\n",
       "      <td>22.8</td>\n",
       "      <td>32.4</td>\n",
       "      <td>29.4</td>\n",
       "      <td>18.2</td>\n",
       "    </tr>\n",
       "    <tr>\n",
       "      <th>4</th>\n",
       "      <td>1.0340</td>\n",
       "      <td>28.7</td>\n",
       "      <td>24</td>\n",
       "      <td>180.975</td>\n",
       "      <td>83.57439</td>\n",
       "      <td>34.4</td>\n",
       "      <td>97.3</td>\n",
       "      <td>100.0</td>\n",
       "      <td>101.9</td>\n",
       "      <td>63.2</td>\n",
       "      <td>42.2</td>\n",
       "      <td>24.0</td>\n",
       "      <td>32.2</td>\n",
       "      <td>27.7</td>\n",
       "      <td>17.7</td>\n",
       "    </tr>\n",
       "  </tbody>\n",
       "</table>\n",
       "</div>"
      ],
      "text/plain": [
       "   UnderwaterDensity  BodyFatSiriEqu  Age   Height  Weight(kg)  NeckCircumf  \\\n",
       "0             1.0708            12.3   23  172.085    69.96662         36.2   \n",
       "1             1.0853             6.1   22  183.515    78.58488         38.5   \n",
       "2             1.0414            25.3   22  168.275    69.85322         34.0   \n",
       "3             1.0751            10.4   26  183.515    83.80119         37.4   \n",
       "4             1.0340            28.7   24  180.975    83.57439         34.4   \n",
       "\n",
       "   ChestCircumf  Abdomen2Circumf  HipCircumf  ThighCircumf  KneeCircumf  \\\n",
       "0          93.1             85.2        94.5          59.0         37.3   \n",
       "1          93.6             83.0        98.7          58.7         37.3   \n",
       "2          95.8             87.9        99.2          59.6         38.9   \n",
       "3         101.8             86.4       101.2          60.1         37.3   \n",
       "4          97.3            100.0       101.9          63.2         42.2   \n",
       "\n",
       "   AnkleCircumf  ExtendBicepsCircumf  ForearmCircumf  WristCircumf  \n",
       "0          21.9                 32.0            27.4          17.1  \n",
       "1          23.4                 30.5            28.9          18.2  \n",
       "2          24.0                 28.8            25.2          16.6  \n",
       "3          22.8                 32.4            29.4          18.2  \n",
       "4          24.0                 32.2            27.7          17.7  "
      ]
     },
     "execution_count": 8,
     "metadata": {},
     "output_type": "execute_result"
    }
   ],
   "source": [
    "df=pd.read_csv('body-fat-data.csv')\n",
    "df.head()"
   ]
  },
  {
   "cell_type": "code",
   "execution_count": 9,
   "metadata": {},
   "outputs": [
    {
     "name": "stdout",
     "output_type": "stream",
     "text": [
      "   Age   Height  Weight(kg)  NeckCircumf  ChestCircumf  Abdomen2Circumf  \\\n",
      "0   23  172.085    69.96662         36.2          93.1             85.2   \n",
      "1   22  183.515    78.58488         38.5          93.6             83.0   \n",
      "2   22  168.275    69.85322         34.0          95.8             87.9   \n",
      "\n",
      "   HipCircumf  ThighCircumf  KneeCircumf  AnkleCircumf  ExtendBicepsCircumf  \\\n",
      "0        94.5          59.0         37.3          21.9                 32.0   \n",
      "1        98.7          58.7         37.3          23.4                 30.5   \n",
      "2        99.2          59.6         38.9          24.0                 28.8   \n",
      "\n",
      "   ForearmCircumf  WristCircumf  UnderwaterDensity  \n",
      "0            27.4          17.1             1.0708  \n",
      "1            28.9          18.2             1.0853  \n",
      "2            25.2          16.6             1.0414  \n",
      "0    12.3\n",
      "1     6.1\n",
      "2    25.3\n",
      "Name: BodyFatSiriEqu, dtype: float64\n",
      "[69.96662 93.1     85.2     94.5      1.0708 ]\n"
     ]
    }
   ],
   "source": [
    "from sklearn.feature_selection import SelectKBest\n",
    "from sklearn.feature_selection import f_regression\n",
    "\n",
    "X=pd.concat([df.iloc[:,2:], df.iloc[:,0:1]], axis=1)\n",
    "print(X.head(3))\n",
    "Y=df['BodyFatSiriEqu']\n",
    "print(Y.head(3))\n",
    "\n",
    "# #Selecting top 5 features for training\n",
    "X = SelectKBest(f_regression, k=5).fit_transform(X, Y)\n",
    "print(X[0])"
   ]
  },
  {
   "cell_type": "code",
   "execution_count": 10,
   "metadata": {},
   "outputs": [
    {
     "name": "stdout",
     "output_type": "stream",
     "text": [
      "<class 'pandas.core.frame.DataFrame'>\n"
     ]
    },
    {
     "data": {
      "text/plain": [
       "Index(['Weight(kg)', 'ChestCircumf', 'Abdomen2Circumf', 'HipCircumf',\n",
       "       'UnderwaterDensity'],\n",
       "      dtype='object')"
      ]
     },
     "execution_count": 10,
     "metadata": {},
     "output_type": "execute_result"
    }
   ],
   "source": [
    "#converting np array to pd dataframe\n",
    "X = pd.DataFrame(X, columns = ['Weight(kg)', 'ChestCircumf', 'Abdomen2Circumf','HipCircumf','UnderwaterDensity'])\n",
    "print(type(X))\n",
    "X.columns"
   ]
  },
  {
   "cell_type": "code",
   "execution_count": 5,
   "metadata": {},
   "outputs": [
    {
     "name": "stdout",
     "output_type": "stream",
     "text": [
      "<class 'numpy.ndarray'>\n"
     ]
    }
   ],
   "source": [
    "# #scaling the input\n",
    "# from sklearn.preprocessing import MinMaxScaler\n",
    "# scaler = MinMaxScaler()\n",
    "\n",
    "# X = scaler.fit_transform(X)\n",
    "# print(type(X))"
   ]
  },
  {
   "cell_type": "code",
   "execution_count": 11,
   "metadata": {},
   "outputs": [
    {
     "name": "stdout",
     "output_type": "stream",
     "text": [
      "<class 'pandas.core.frame.DataFrame'>\n"
     ]
    },
    {
     "data": {
      "text/html": [
       "<div>\n",
       "<style scoped>\n",
       "    .dataframe tbody tr th:only-of-type {\n",
       "        vertical-align: middle;\n",
       "    }\n",
       "\n",
       "    .dataframe tbody tr th {\n",
       "        vertical-align: top;\n",
       "    }\n",
       "\n",
       "    .dataframe thead th {\n",
       "        text-align: right;\n",
       "    }\n",
       "</style>\n",
       "<table border=\"1\" class=\"dataframe\">\n",
       "  <thead>\n",
       "    <tr style=\"text-align: right;\">\n",
       "      <th></th>\n",
       "      <th>Weight(kg)</th>\n",
       "      <th>ChestCircumf</th>\n",
       "      <th>Abdomen2Circumf</th>\n",
       "      <th>HipCircumf</th>\n",
       "      <th>UnderwaterDensity</th>\n",
       "    </tr>\n",
       "  </thead>\n",
       "  <tbody>\n",
       "    <tr>\n",
       "      <th>0</th>\n",
       "      <td>69.96662</td>\n",
       "      <td>93.1</td>\n",
       "      <td>85.2</td>\n",
       "      <td>94.5</td>\n",
       "      <td>1.0708</td>\n",
       "    </tr>\n",
       "    <tr>\n",
       "      <th>1</th>\n",
       "      <td>78.58488</td>\n",
       "      <td>93.6</td>\n",
       "      <td>83.0</td>\n",
       "      <td>98.7</td>\n",
       "      <td>1.0853</td>\n",
       "    </tr>\n",
       "    <tr>\n",
       "      <th>2</th>\n",
       "      <td>69.85322</td>\n",
       "      <td>95.8</td>\n",
       "      <td>87.9</td>\n",
       "      <td>99.2</td>\n",
       "      <td>1.0414</td>\n",
       "    </tr>\n",
       "    <tr>\n",
       "      <th>3</th>\n",
       "      <td>83.80119</td>\n",
       "      <td>101.8</td>\n",
       "      <td>86.4</td>\n",
       "      <td>101.2</td>\n",
       "      <td>1.0751</td>\n",
       "    </tr>\n",
       "    <tr>\n",
       "      <th>4</th>\n",
       "      <td>83.57439</td>\n",
       "      <td>97.3</td>\n",
       "      <td>100.0</td>\n",
       "      <td>101.9</td>\n",
       "      <td>1.0340</td>\n",
       "    </tr>\n",
       "  </tbody>\n",
       "</table>\n",
       "</div>"
      ],
      "text/plain": [
       "   Weight(kg)  ChestCircumf  Abdomen2Circumf  HipCircumf  UnderwaterDensity\n",
       "0    69.96662          93.1             85.2        94.5             1.0708\n",
       "1    78.58488          93.6             83.0        98.7             1.0853\n",
       "2    69.85322          95.8             87.9        99.2             1.0414\n",
       "3    83.80119         101.8             86.4       101.2             1.0751\n",
       "4    83.57439          97.3            100.0       101.9             1.0340"
      ]
     },
     "execution_count": 11,
     "metadata": {},
     "output_type": "execute_result"
    }
   ],
   "source": [
    "#converting np array to pd dataframe\n",
    "X = pd.DataFrame(X, columns = ['Weight(kg)', 'ChestCircumf', 'Abdomen2Circumf', 'HipCircumf',\n",
    "       'UnderwaterDensity'])\n",
    "print(type(X))\n",
    "X.head()"
   ]
  },
  {
   "cell_type": "code",
   "execution_count": 12,
   "metadata": {},
   "outputs": [],
   "source": [
    "from sklearn.model_selection import train_test_split\n",
    "X_train, X_test, Y_train, Y_test = train_test_split(X, Y, test_size=0.3, random_state=0)"
   ]
  },
  {
   "cell_type": "code",
   "execution_count": 13,
   "metadata": {},
   "outputs": [
    {
     "data": {
      "text/plain": [
       "LinearRegression(copy_X=True, fit_intercept=True, n_jobs=None, normalize=False)"
      ]
     },
     "execution_count": 13,
     "metadata": {},
     "output_type": "execute_result"
    }
   ],
   "source": [
    "from sklearn import linear_model\n",
    "regr = linear_model.LinearRegression()\n",
    "regr.fit(X_train, Y_train)"
   ]
  },
  {
   "cell_type": "code",
   "execution_count": 14,
   "metadata": {},
   "outputs": [
    {
     "name": "stdout",
     "output_type": "stream",
     "text": [
      "Feature: 0, Score: -0.01397\n",
      "Feature: 1, Score: 0.06147\n",
      "Feature: 2, Score: 0.04438\n",
      "Feature: 3, Score: -0.00829\n",
      "Feature: 4, Score: -405.99897\n"
     ]
    },
    {
     "data": {
      "image/png": "[encoded data removed]",
      "text/plain": [
       "<Figure size 432x288 with 1 Axes>"
      ]
     },
     "metadata": {
      "needs_background": "light"
     },
     "output_type": "display_data"
    }
   ],
   "source": [
    "# get importance\n",
    "importance = regr.coef_\n",
    "# summarize feature importance\n",
    "for i,v in enumerate(importance):\n",
    "    print('Feature: %0d, Score: %.5f' % (i,v))\n",
    "# plot feature importance\n",
    "plt.bar([x for x in range(len(importance))], importance)\n",
    "plt.show()"
   ]
  },
  {
   "cell_type": "code",
   "execution_count": 15,
   "metadata": {},
   "outputs": [
    {
     "data": {
      "text/plain": [
       "0.9879885360785259"
      ]
     },
     "execution_count": 15,
     "metadata": {},
     "output_type": "execute_result"
    }
   ],
   "source": [
    "# Explained variance score: 1 is perfect prediction\n",
    "# and 0 means that there is no linear relationship\n",
    "# between X and y.\n",
    "regr.score(X_test,Y_test)"
   ]
  },
  {
   "cell_type": "code",
   "execution_count": 16,
   "metadata": {},
   "outputs": [
    {
     "data": {
      "text/plain": [
       "array([12.02163992, 26.65509743,  3.3341677 , 20.34589893,  9.27056691,\n",
       "       23.0967775 , 24.84918883, 25.01361066, 25.94278421, 27.06870761,\n",
       "       25.86826057, 15.68631964, 21.26790045, 21.18586354, 16.50555884,\n",
       "       12.99074061, 17.192295  ,  0.82543775, 10.54335445, 11.85424377,\n",
       "       20.8814275 , 13.86798763, 29.49702469, 21.92204636, 19.55397257,\n",
       "       31.88072254,  4.64687258, 23.12960836, 21.5895969 , 28.07443512,\n",
       "       30.34379043, 26.43091647, 28.23214381, 11.82416837, 35.88614309,\n",
       "       13.95760529, 24.66649423, 21.36759184, 14.74705386, 11.26547173,\n",
       "       17.84039348, 20.86385476, 35.10489128, 22.39110088, 20.65203182,\n",
       "       14.96935703, 12.53489219,  7.39225649, 31.59806873, -4.35285817,\n",
       "        8.76191894, 13.4888523 , 22.36432946,  8.60393768, 24.74346583,\n",
       "       13.01671313, 17.28213067, 16.63661929, 27.10000053, 20.93083253,\n",
       "        9.57736404, 11.89058632, 12.90902545, 14.17485736, 15.08005792,\n",
       "       15.29745005, 22.02447536, 17.91448329, 30.67468308, 15.3870703 ,\n",
       "       30.82581635, 19.45147557,  8.90946346, 28.27130508, 10.21157094,\n",
       "       13.85759137])"
      ]
     },
     "execution_count": 16,
     "metadata": {},
     "output_type": "execute_result"
    }
   ],
   "source": [
    "predictions=regr.predict(X_test)\n",
    "predictions"
   ]
  },
  {
   "cell_type": "code",
   "execution_count": 17,
   "metadata": {},
   "outputs": [
    {
     "name": "stdout",
     "output_type": "stream",
     "text": [
      "[12. 27.  3. 20.  9. 23. 25. 25. 26. 27. 26. 16. 21. 21. 17. 13. 17.  1.\n",
      " 11. 12. 21. 14. 29. 22. 20. 32.  5. 23. 22. 28. 30. 26. 28. 12. 36. 14.\n",
      " 25. 21. 15. 11. 18. 21. 35. 22. 21. 15. 13.  7. 32. -4.  9. 13. 22.  9.\n",
      " 25. 13. 17. 17. 27. 21. 10. 12. 13. 14. 15. 15. 22. 18. 31. 15. 31. 19.\n",
      "  9. 28. 10. 14.]\n"
     ]
    }
   ],
   "source": [
    "predictions = np.round(predictions)\n",
    "print(np.round(predictions))"
   ]
  },
  {
   "cell_type": "code",
   "execution_count": 18,
   "metadata": {},
   "outputs": [
    {
     "data": {
      "text/plain": [
       "<matplotlib.collections.PathCollection at 0x1a0e6a18948>"
      ]
     },
     "execution_count": 18,
     "metadata": {},
     "output_type": "execute_result"
    },
    {
     "data": {
      "image/png": "[encoded data removed]",
      "text/plain": [
       "<Figure size 432x288 with 1 Axes>"
      ]
     },
     "metadata": {
      "needs_background": "light"
     },
     "output_type": "display_data"
    }
   ],
   "source": [
    "import matplotlib.pyplot as plt\n",
    "plt.scatter(Y_test,predictions)"
   ]
  },
  {
   "cell_type": "code",
   "execution_count": 19,
   "metadata": {},
   "outputs": [
    {
     "name": "stdout",
     "output_type": "stream",
     "text": [
      "Accuracy: 97.36842105263158%\n"
     ]
    }
   ],
   "source": [
    "Y_np=np.array(Y_test)\n",
    "z=0\n",
    "for y,p in zip(Y_np,predictions):\n",
    "    x=abs(y-p)\n",
    "#     print(x)\n",
    "    if(x<=2):\n",
    "        z=z+1\n",
    "print(\"Accuracy: {}%\".format((z/Y_np.size)*100))"
   ]
  },
  {
   "cell_type": "code",
   "execution_count": 20,
   "metadata": {},
   "outputs": [],
   "source": [
    "import pickle\n",
    "# open a file, where you ant to store the data\n",
    "file = open('linear_regression_fat_detection_model.pkl', 'wb')\n",
    "\n",
    "# dump information to that file\n",
    "pickle.dump(regr, file)"
   ]
  },
  {
   "cell_type": "code",
   "execution_count": 21,
   "metadata": {},
   "outputs": [
    {
     "data": {
      "text/plain": [
       "['Linear_body_fat_detection_model.sav']"
      ]
     },
     "execution_count": 21,
     "metadata": {},
     "output_type": "execute_result"
    }
   ],
   "source": [
    "import joblib\n",
    "filename = 'Linear_body_fat_detection_model.sav'\n",
    "joblib.dump(regr, filename)"
   ]
  },
  {
   "cell_type": "code",
   "execution_count": null,
   "metadata": {},
   "outputs": [],
   "source": []
  },
  {
   "cell_type": "code",
   "execution_count": 82,
   "metadata": {},
   "outputs": [
    {
     "data": {
      "text/plain": [
       "Pipeline(steps=[('standardscaler', StandardScaler()),\n",
       "                ('sgdregressor', SGDRegressor())])"
      ]
     },
     "execution_count": 82,
     "metadata": {},
     "output_type": "execute_result"
    }
   ],
   "source": [
    "from sklearn.linear_model import SGDRegressor\n",
    "from sklearn.pipeline import make_pipeline\n",
    "from sklearn.preprocessing import StandardScaler\n",
    "\n",
    "reg = make_pipeline(StandardScaler(),SGDRegressor(max_iter=1000, tol=1e-3))\n",
    "reg.fit(X_train,Y_train)"
   ]
  },
  {
   "cell_type": "code",
   "execution_count": 84,
   "metadata": {},
   "outputs": [
    {
     "name": "stdout",
     "output_type": "stream",
     "text": [
      "[11.90558909 26.64810672  3.6873282  20.34619085  9.04608804 22.82570186\n",
      " 24.46337513 24.70065953 26.14811596 27.21526969 25.78038178 15.54870513\n",
      " 21.32505494 21.06011282 16.69567085 12.9691647  17.05548264  1.16914091\n",
      " 10.7087532  11.96685099 20.72848355 13.51226329 29.43749181 21.68099578\n",
      " 19.5503039  31.95917445  4.30040374 23.1692715  21.36024065 27.82811243\n",
      " 30.27021256 26.14386996 28.6130116  12.01682286 36.00731262 13.80391332\n",
      " 24.67546432 20.87016883 14.45325699 11.20240986 17.84126379 20.64396707\n",
      " 35.13018068 22.10484907 20.83011968 14.96891024 12.48374411  7.62992279\n",
      " 31.57043716 -3.94586884  9.06471795 13.59611864 22.23249997  8.36657886\n",
      " 24.8753287  13.06075387 17.57975986 16.34422872 27.1241663  21.11185348\n",
      "  9.13805427 12.11197257 12.91986065 14.01182489 15.40271517 15.22406154\n",
      " 21.75154379 17.32289769 30.65345013 15.55540926 30.51197881 19.39506588\n",
      "  8.86685133 27.89394681 10.35799589 13.82410688]\n"
     ]
    }
   ],
   "source": [
    "predictions=reg.predict(X_test)\n",
    "print(predictions)\n",
    "predictions=np.round(predictions)"
   ]
  },
  {
   "cell_type": "code",
   "execution_count": 85,
   "metadata": {},
   "outputs": [
    {
     "name": "stdout",
     "output_type": "stream",
     "text": [
      "Accuracy: 97.36842105263158%\n"
     ]
    }
   ],
   "source": [
    "Y_np=np.array(Y_test)\n",
    "z=0\n",
    "for y,p in zip(Y_np,predictions):\n",
    "    x=abs(y-p)\n",
    "#     print(x)\n",
    "    if(x<=2):\n",
    "        z=z+1\n",
    "print(\"Accuracy: {}%\".format((z/Y_np.size)*100))"
   ]
  },
  {
   "cell_type": "code",
   "execution_count": 86,
   "metadata": {},
   "outputs": [],
   "source": [
    "import pickle\n",
    "# open a file, where you ant to store the data\n",
    "file = open('SGDRegressor_regression_fat_detection_model.pkl', 'wb')\n",
    "\n",
    "# dump information to that file\n",
    "pickle.dump(reg, file)"
   ]
  },
  {
   "cell_type": "code",
   "execution_count": null,
   "metadata": {},
   "outputs": [],
   "source": []
  }
 ],
 "metadata": {
  "kernelspec": {
   "display_name": "Python 3",
   "language": "python",
   "name": "python3"
  },
  "language_info": {
   "codemirror_mode": {
    "name": "ipython",
    "version": 3
   },
   "file_extension": ".py",
   "mimetype": "text/x-python",
   "name": "python",
   "nbconvert_exporter": "python",
   "pygments_lexer": "ipython3",
   "version": "3.7.6"
  }
 },
 "nbformat": 4,
 "nbformat_minor": 5
}
